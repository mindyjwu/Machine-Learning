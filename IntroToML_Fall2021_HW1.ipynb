{
 "cells": [
  {
   "cell_type": "markdown",
   "metadata": {},
   "source": [
    "# Introduction to Machine Learning (CSCI-UA.473)\n",
    "\n",
    "## Homework 1: Linear Models for Regression and Classification\n",
    "### Due: September 27th, 2021 at 11:59PM\n",
    "\n",
    "\n",
    "### Name: Aditya Singhal\n",
    "### Email: as11919@nyu.edu"
   ]
  },
  {
   "cell_type": "markdown",
   "metadata": {},
   "source": [
    "## Question P1: Linear Regression (20 points total)"
   ]
  },
  {
   "cell_type": "markdown",
   "metadata": {},
   "source": [
    "A linear regression model is a linear function of the parameters of the model. Its output $y$ is a real number or a real vector, depending on the task definition. That is: \n",
    "$$\n",
    "y = w \\cdot x\n",
    "$$\n",
    "\n",
    "Implement, train, and test a linear regression model to predict the values of PSA. \n",
    "\n",
    "The dataset can be found here: https://web.stanford.edu/~hastie/ElemStatLearn/datasets/prostate.data \n",
    "The necessary information associated with the dataset can be found here: https://web.stanford.edu/~hastie/ElemStatLearn/datasets/prostate.info.txt\n",
    "\n",
    "Note that the last column indicates which observations belong to the training set and which ones belong to the test set. For the purpose of this exercise use the test set as your \"validation\" set. "
   ]
  },
  {
   "cell_type": "markdown",
   "metadata": {},
   "source": [
    "### P1.a: Loading the data, implementing the model, and finding the solution (10 points)"
   ]
  },
  {
   "cell_type": "markdown",
   "metadata": {},
   "source": [
    "#### Dataset ###\n",
    "Load the dataset and split it into train and validation sets. "
   ]
  },
  {
   "cell_type": "code",
   "execution_count": 1,
   "metadata": {},
   "outputs": [
    {
     "ename": "ModuleNotFoundError",
     "evalue": "No module named 'autograd'",
     "output_type": "error",
     "traceback": [
      "\u001b[0;31m---------------------------------------------------------------------------\u001b[0m",
      "\u001b[0;31mModuleNotFoundError\u001b[0m                       Traceback (most recent call last)",
      "\u001b[0;32m<ipython-input-1-6a42ff47c43e>\u001b[0m in \u001b[0;36m<module>\u001b[0;34m\u001b[0m\n\u001b[1;32m      2\u001b[0m \u001b[0;32mimport\u001b[0m \u001b[0mpandas\u001b[0m \u001b[0;32mas\u001b[0m \u001b[0mpd\u001b[0m\u001b[0;34m\u001b[0m\u001b[0;34m\u001b[0m\u001b[0m\n\u001b[1;32m      3\u001b[0m \u001b[0;32mfrom\u001b[0m \u001b[0mtqdm\u001b[0m \u001b[0;32mimport\u001b[0m \u001b[0mtqdm\u001b[0m\u001b[0;34m\u001b[0m\u001b[0;34m\u001b[0m\u001b[0m\n\u001b[0;32m----> 4\u001b[0;31m \u001b[0;32mimport\u001b[0m \u001b[0mautograd\u001b[0m\u001b[0;34m.\u001b[0m\u001b[0mnumpy\u001b[0m \u001b[0;32mas\u001b[0m \u001b[0mnp\u001b[0m\u001b[0;34m\u001b[0m\u001b[0;34m\u001b[0m\u001b[0m\n\u001b[0m\u001b[1;32m      5\u001b[0m \u001b[0;32mimport\u001b[0m \u001b[0mmatplotlib\u001b[0m\u001b[0;34m.\u001b[0m\u001b[0mpyplot\u001b[0m \u001b[0;32mas\u001b[0m \u001b[0mplt\u001b[0m\u001b[0;34m\u001b[0m\u001b[0;34m\u001b[0m\u001b[0m\n\u001b[1;32m      6\u001b[0m \u001b[0;32mfrom\u001b[0m \u001b[0mautograd\u001b[0m \u001b[0;32mimport\u001b[0m \u001b[0mgrad\u001b[0m\u001b[0;34m,\u001b[0m \u001b[0melementwise_grad\u001b[0m\u001b[0;34m\u001b[0m\u001b[0;34m\u001b[0m\u001b[0m\n",
      "\u001b[0;31mModuleNotFoundError\u001b[0m: No module named 'autograd'"
     ]
    }
   ],
   "source": [
    "# ! pip install autograd\n",
    "import pandas as pd\n",
    "from tqdm import tqdm\n",
    "import autograd.numpy as np\n",
    "import matplotlib.pyplot as plt\n",
    "from autograd import grad, elementwise_grad"
   ]
  },
  {
   "cell_type": "code",
   "execution_count": null,
   "metadata": {},
   "outputs": [],
   "source": [
    "data = pd.read_csv(\"prostate.data\", sep = '\\t', index_col=0)"
   ]
  },
  {
   "cell_type": "code",
   "execution_count": null,
   "metadata": {},
   "outputs": [],
   "source": [
    "train_df = data[data['train']=='T'].drop(columns=['lpsa', \"train\"])\n",
    "train_Y = data[data['train']=='T'][\"lpsa\"]\n",
    "val_df = data[data['train']=='F'].drop(columns=['lpsa', \"train\"])\n",
    "val_Y = data[data['train']=='F'][\"lpsa\"]"
   ]
  },
  {
   "cell_type": "code",
   "execution_count": 4,
   "metadata": {},
   "outputs": [
    {
     "data": {
      "text/html": [
       "<div>\n",
       "<style scoped>\n",
       "    .dataframe tbody tr th:only-of-type {\n",
       "        vertical-align: middle;\n",
       "    }\n",
       "\n",
       "    .dataframe tbody tr th {\n",
       "        vertical-align: top;\n",
       "    }\n",
       "\n",
       "    .dataframe thead th {\n",
       "        text-align: right;\n",
       "    }\n",
       "</style>\n",
       "<table border=\"1\" class=\"dataframe\">\n",
       "  <thead>\n",
       "    <tr style=\"text-align: right;\">\n",
       "      <th></th>\n",
       "      <th>lcavol</th>\n",
       "      <th>lweight</th>\n",
       "      <th>age</th>\n",
       "      <th>lbph</th>\n",
       "      <th>svi</th>\n",
       "      <th>lcp</th>\n",
       "      <th>gleason</th>\n",
       "      <th>pgg45</th>\n",
       "    </tr>\n",
       "  </thead>\n",
       "  <tbody>\n",
       "    <tr>\n",
       "      <th>1</th>\n",
       "      <td>-0.579818</td>\n",
       "      <td>2.769459</td>\n",
       "      <td>50</td>\n",
       "      <td>-1.386294</td>\n",
       "      <td>0</td>\n",
       "      <td>-1.386294</td>\n",
       "      <td>6</td>\n",
       "      <td>0</td>\n",
       "    </tr>\n",
       "    <tr>\n",
       "      <th>2</th>\n",
       "      <td>-0.994252</td>\n",
       "      <td>3.319626</td>\n",
       "      <td>58</td>\n",
       "      <td>-1.386294</td>\n",
       "      <td>0</td>\n",
       "      <td>-1.386294</td>\n",
       "      <td>6</td>\n",
       "      <td>0</td>\n",
       "    </tr>\n",
       "    <tr>\n",
       "      <th>3</th>\n",
       "      <td>-0.510826</td>\n",
       "      <td>2.691243</td>\n",
       "      <td>74</td>\n",
       "      <td>-1.386294</td>\n",
       "      <td>0</td>\n",
       "      <td>-1.386294</td>\n",
       "      <td>7</td>\n",
       "      <td>20</td>\n",
       "    </tr>\n",
       "    <tr>\n",
       "      <th>4</th>\n",
       "      <td>-1.203973</td>\n",
       "      <td>3.282789</td>\n",
       "      <td>58</td>\n",
       "      <td>-1.386294</td>\n",
       "      <td>0</td>\n",
       "      <td>-1.386294</td>\n",
       "      <td>6</td>\n",
       "      <td>0</td>\n",
       "    </tr>\n",
       "    <tr>\n",
       "      <th>5</th>\n",
       "      <td>0.751416</td>\n",
       "      <td>3.432373</td>\n",
       "      <td>62</td>\n",
       "      <td>-1.386294</td>\n",
       "      <td>0</td>\n",
       "      <td>-1.386294</td>\n",
       "      <td>6</td>\n",
       "      <td>0</td>\n",
       "    </tr>\n",
       "    <tr>\n",
       "      <th>...</th>\n",
       "      <td>...</td>\n",
       "      <td>...</td>\n",
       "      <td>...</td>\n",
       "      <td>...</td>\n",
       "      <td>...</td>\n",
       "      <td>...</td>\n",
       "      <td>...</td>\n",
       "      <td>...</td>\n",
       "    </tr>\n",
       "    <tr>\n",
       "      <th>91</th>\n",
       "      <td>3.246491</td>\n",
       "      <td>4.101817</td>\n",
       "      <td>68</td>\n",
       "      <td>-1.386294</td>\n",
       "      <td>0</td>\n",
       "      <td>-1.386294</td>\n",
       "      <td>6</td>\n",
       "      <td>0</td>\n",
       "    </tr>\n",
       "    <tr>\n",
       "      <th>92</th>\n",
       "      <td>2.532903</td>\n",
       "      <td>3.677566</td>\n",
       "      <td>61</td>\n",
       "      <td>1.348073</td>\n",
       "      <td>1</td>\n",
       "      <td>-1.386294</td>\n",
       "      <td>7</td>\n",
       "      <td>15</td>\n",
       "    </tr>\n",
       "    <tr>\n",
       "      <th>93</th>\n",
       "      <td>2.830268</td>\n",
       "      <td>3.876396</td>\n",
       "      <td>68</td>\n",
       "      <td>-1.386294</td>\n",
       "      <td>1</td>\n",
       "      <td>1.321756</td>\n",
       "      <td>7</td>\n",
       "      <td>60</td>\n",
       "    </tr>\n",
       "    <tr>\n",
       "      <th>94</th>\n",
       "      <td>3.821004</td>\n",
       "      <td>3.896909</td>\n",
       "      <td>44</td>\n",
       "      <td>-1.386294</td>\n",
       "      <td>1</td>\n",
       "      <td>2.169054</td>\n",
       "      <td>7</td>\n",
       "      <td>40</td>\n",
       "    </tr>\n",
       "    <tr>\n",
       "      <th>96</th>\n",
       "      <td>2.882564</td>\n",
       "      <td>3.773910</td>\n",
       "      <td>68</td>\n",
       "      <td>1.558145</td>\n",
       "      <td>1</td>\n",
       "      <td>1.558145</td>\n",
       "      <td>7</td>\n",
       "      <td>80</td>\n",
       "    </tr>\n",
       "  </tbody>\n",
       "</table>\n",
       "<p>67 rows × 8 columns</p>\n",
       "</div>"
      ],
      "text/plain": [
       "      lcavol   lweight  age      lbph  svi       lcp  gleason  pgg45\n",
       "1  -0.579818  2.769459   50 -1.386294    0 -1.386294        6      0\n",
       "2  -0.994252  3.319626   58 -1.386294    0 -1.386294        6      0\n",
       "3  -0.510826  2.691243   74 -1.386294    0 -1.386294        7     20\n",
       "4  -1.203973  3.282789   58 -1.386294    0 -1.386294        6      0\n",
       "5   0.751416  3.432373   62 -1.386294    0 -1.386294        6      0\n",
       "..       ...       ...  ...       ...  ...       ...      ...    ...\n",
       "91  3.246491  4.101817   68 -1.386294    0 -1.386294        6      0\n",
       "92  2.532903  3.677566   61  1.348073    1 -1.386294        7     15\n",
       "93  2.830268  3.876396   68 -1.386294    1  1.321756        7     60\n",
       "94  3.821004  3.896909   44 -1.386294    1  2.169054        7     40\n",
       "96  2.882564  3.773910   68  1.558145    1  1.558145        7     80\n",
       "\n",
       "[67 rows x 8 columns]"
      ]
     },
     "execution_count": 4,
     "metadata": {},
     "output_type": "execute_result"
    }
   ],
   "source": [
    "train_df"
   ]
  },
  {
   "cell_type": "markdown",
   "metadata": {},
   "source": [
    "#### Implement the model, find the solution ###\n",
    "1. Find the closed form solution and report the numbers on the validation set. \n",
    "2. Find another solution using LinearRegression module of scikit-learn and report any difference in numbers. "
   ]
  },
  {
   "cell_type": "code",
   "execution_count": 5,
   "metadata": {},
   "outputs": [],
   "source": [
    "def normalize(df):\n",
    "    return (df - df.mean()) / df.std()\n",
    "    \n",
    "def myLinearRegression(X, Y):\n",
    "    w = np.dot(np.linalg.inv(np.dot(X.T, X)), np.dot(X.T, Y))\n",
    "    c = np.mean(np.dot(X, w) - Y)\n",
    "    return (w, c)\n",
    "\n",
    "def predict(X, w, c):\n",
    "    return np.dot(X, w) + c"
   ]
  },
  {
   "cell_type": "code",
   "execution_count": 6,
   "metadata": {},
   "outputs": [
    {
     "name": "stdout",
     "output_type": "stream",
     "text": [
      "[ 0.59314448  0.24229136 -0.11802303  0.1755303   0.25634746 -0.2392803\n",
      " -0.01731521  0.22962676]\n"
     ]
    }
   ],
   "source": [
    "w, c = myLinearRegression(normalize(train_df), normalize(train_Y))\n",
    "print(w)"
   ]
  },
  {
   "cell_type": "code",
   "execution_count": 7,
   "metadata": {
    "scrolled": false
   },
   "outputs": [],
   "source": [
    "def RSS(y, y_hat):\n",
    "    return (y - y_hat).T @ (y - y_hat)"
   ]
  },
  {
   "cell_type": "code",
   "execution_count": 8,
   "metadata": {},
   "outputs": [
    {
     "data": {
      "text/plain": [
       "14.242695123767449"
      ]
     },
     "execution_count": 8,
     "metadata": {},
     "output_type": "execute_result"
    }
   ],
   "source": [
    "RSS(normalize(val_Y), predict(normalize(val_df), w, c))"
   ]
  },
  {
   "cell_type": "code",
   "execution_count": 9,
   "metadata": {},
   "outputs": [
    {
     "name": "stdout",
     "output_type": "stream",
     "text": [
      "[ 0.59314448  0.24229136 -0.11802303  0.1755303   0.25634746 -0.2392803\n",
      " -0.01731521  0.22962676]\n"
     ]
    }
   ],
   "source": [
    "from sklearn.linear_model import LinearRegression\n",
    "\n",
    "model = LinearRegression()\n",
    "model.fit(normalize(train_df), normalize(train_Y))\n",
    "\n",
    "print(model.coef_)"
   ]
  },
  {
   "cell_type": "code",
   "execution_count": 10,
   "metadata": {
    "scrolled": true
   },
   "outputs": [
    {
     "data": {
      "text/plain": [
       "14.242695123767433"
      ]
     },
     "execution_count": 10,
     "metadata": {},
     "output_type": "execute_result"
    }
   ],
   "source": [
    "RSS(normalize(val_Y), model.predict(normalize(val_df)))"
   ]
  },
  {
   "cell_type": "markdown",
   "metadata": {},
   "source": [
    "#### Looks quite similar!"
   ]
  },
  {
   "cell_type": "markdown",
   "metadata": {},
   "source": [
    "### P1.b: Implement Ridge and Lasso regression (5 + 5 = 10 points)"
   ]
  },
  {
   "cell_type": "markdown",
   "metadata": {},
   "source": [
    "#### Ridge Regression\n",
    "Implement the Ridge regression and plot the values of coefficients for different values of the effective degrees of freedom $df(\\lambda)$: \n",
    "\n",
    "$$\n",
    "\\lambda = [0, 1, 2, 3, 4, 5, 6, 7, 8, 9].\n",
    "$$\n",
    "\n",
    "Where the effective degrees of freedom $df(\\lambda)$ is defined as: \n",
    "\n",
    "$$ \n",
    "df(\\lambda) = trace \\left[{\\bf X}({\\bf X}^T {\\bf X} +  \\lambda {\\bf I})^{-1} {\\bf X}^T \\right]\n",
    "$$"
   ]
  },
  {
   "cell_type": "code",
   "execution_count": 11,
   "metadata": {
    "scrolled": true
   },
   "outputs": [
    {
     "data": {
      "image/png": "[encoded data removed]",
      "text/plain": [
       "<Figure size 432x288 with 1 Axes>"
      ]
     },
     "metadata": {
      "needs_background": "light"
     },
     "output_type": "display_data"
    }
   ],
   "source": [
    "lambdas = [0,1,2,3,4,5,6,7,8,9]\n",
    "w_ridge = []\n",
    "df_ridge = []\n",
    "\n",
    "for each_lambda in lambdas:\n",
    "    df_ridge.append(np.trace(np.dot((train_df @ np.linalg.inv(train_df.T @ train_df + (each_lambda * np.identity(train_df.shape[1])))),train_df.T)))\n",
    "    w_ridge.append((np.linalg.inv((train_df.T @ train_df) + (each_lambda * np.identity(train_df.shape[1]))) @ train_df.T) @ train_Y)\n",
    "   \n",
    "ax = plt.gca()\n",
    "\n",
    "ax.plot(lambdas, w_ridge, label=train_df.columns)\n",
    "plt.xlabel('λ')\n",
    "plt.ylabel('Weights')\n",
    "plt.title('Weights vs lambdas')\n",
    "plt.legend()\n",
    "plt.show()\n"
   ]
  },
  {
   "cell_type": "code",
   "execution_count": 12,
   "metadata": {},
   "outputs": [
    {
     "data": {
      "image/png": "[encoded data removed]",
      "text/plain": [
       "<Figure size 432x288 with 1 Axes>"
      ]
     },
     "metadata": {
      "needs_background": "light"
     },
     "output_type": "display_data"
    }
   ],
   "source": [
    "ax = plt.gca()\n",
    "ax.plot(df_ridge, w_ridge, label=train_df.columns)\n",
    "plt.xlabel('Effective df(λ)')\n",
    "plt.ylabel('Weights')\n",
    "plt.title('Weights vs Effective df')\n",
    "plt.legend()\n",
    "plt.show()"
   ]
  },
  {
   "cell_type": "markdown",
   "metadata": {},
   "source": [
    "#### Lasso Regression\n",
    "Implement the Lasso regression and plot the values of coefficients for different values of the shrinkage parameters $s$: \n",
    "\n",
    "$$\n",
    "s = [0.0, 0.1, 0.2, 0.3, 0.4, 0.5, 0.6, 0.7, 0.8, 0.9, 1.0].\n",
    "$$\n",
    "\n",
    "Where the shrinkage parameters $s$ is defined as: \n",
    "\n",
    "$$ \n",
    "s = \\frac{t}{\\sum_{i=1}^p |\\beta_i|}, \n",
    "$$\n",
    "\n",
    "and $t$ is the sparsity penality in the Lasso equation. "
   ]
  },
  {
   "cell_type": "code",
   "execution_count": 13,
   "metadata": {},
   "outputs": [
    {
     "name": "stderr",
     "output_type": "stream",
     "text": [
      "100%|██████████| 11/11 [02:34<00:00, 14.03s/it]\n"
     ]
    }
   ],
   "source": [
    "shrinkage = [0.0, 0.1, 0.2, 0.3, 0.4, 0.5, 0.6, 0.7, 0.8, 0.9, 1.0]\n",
    "weights = []\n",
    "\n",
    "def lasso_loss(w, shrinkage):\n",
    "    X = normalize(train_df).to_numpy()\n",
    "    y = normalize(train_Y).to_numpy()\n",
    "    y_hat = predict(X, w, 0)\n",
    "    loss1 = np.mean((y_hat - y)**2)\n",
    "    loss2 = shrinkage * np.sum(abs(w))\n",
    "    return -(loss1 + loss2)\n",
    "\n",
    "for s in tqdm(shrinkage):\n",
    "        \n",
    "    w_lasso = np.zeros(8)\n",
    "    d_loss = grad(lasso_loss)\n",
    "    for i in range(3000):\n",
    "        change = d_loss(w_lasso, s) * (1e-2/(i+1))\n",
    "        w_lasso = w_lasso + change\n",
    "    \n",
    "    weights.append(w_lasso)"
   ]
  },
  {
   "cell_type": "code",
   "execution_count": 14,
   "metadata": {},
   "outputs": [
    {
     "data": {
      "image/png": "[encoded data removed]",
      "text/plain": [
       "<Figure size 432x288 with 1 Axes>"
      ]
     },
     "metadata": {
      "needs_background": "light"
     },
     "output_type": "display_data"
    }
   ],
   "source": [
    "ax = plt.gca()\n",
    "\n",
    "ax.plot(shrinkage, weights, label=train_df.columns)\n",
    "plt.xlabel('Shrinkage parameter')\n",
    "plt.ylabel('Weights')\n",
    "plt.title('Weights vs S')\n",
    "plt.legend()\n",
    "plt.show()"
   ]
  },
  {
   "cell_type": "markdown",
   "metadata": {},
   "source": [
    "## Question P2: Gradient Descent (10 points total)\n",
    "\n",
    "In this problem you will implement gradient descent as a general purpose optimization algorithm.\n",
    "\n",
    "You will need the following packages below to do the homework. Please DO NOT import any other packages."
   ]
  },
  {
   "cell_type": "code",
   "execution_count": 15,
   "metadata": {},
   "outputs": [],
   "source": [
    "from scipy.stats import multivariate_normal as mvn"
   ]
  },
  {
   "cell_type": "markdown",
   "metadata": {},
   "source": [
    "### P2.a: Implement gradient descent with a fixed learning rate (5 points)\n",
    "\n",
    "Using autograd to compute the derivative, implement gradient descent with a fixed learning rate `lr` for a general scalar function `fun`."
   ]
  },
  {
   "cell_type": "code",
   "execution_count": 16,
   "metadata": {},
   "outputs": [],
   "source": [
    "\"\"\"\n",
    "Perform a fixed number of iterations of gradient descent on a function using a fixed learning rate. \n",
    "\n",
    "Input:\n",
    "    fun : function handle: function that takes in a numpy array of shape (d,) and returns a float\n",
    "    x0  : initial point: numpy array of shape (d,)\n",
    "    lr  : fixed learning rate: a positive float\n",
    "    iterations : number of iterations to perform: int\n",
    "    \n",
    "Return:\n",
    "    x   : minimizer to fun: numpy array of shape (d,)\n",
    "\"\"\"\n",
    "def gd_fixed(d_fun, w, lr):\n",
    "    \n",
    "    w -= lr*d_fun(w)\n",
    "    return w"
   ]
  },
  {
   "cell_type": "markdown",
   "metadata": {},
   "source": [
    "### P2.b: Implement gradient descent with a variable learning rate ( 5 points)\n",
    "\n",
    "Sometimes it is necessary to decrease our learning rate as we iterate to help gradient descent converge. Implement gradient descent below where the learning rate at iteration $i$ is given by\n",
    "\n",
    "$$\n",
    "\\mathrm{lr}_i = \\frac{\\mathrm{lr}}{i+1}.\n",
    "$$"
   ]
  },
  {
   "cell_type": "code",
   "execution_count": 17,
   "metadata": {},
   "outputs": [],
   "source": [
    "\"\"\"\n",
    "Perform a fixed number of iterations of gradient descent on a function using a variable learning rate. \n",
    "\n",
    "Input:\n",
    "    fun : function handle: function that takes in a numpy array of shape (d,) and returns a float\n",
    "    x0  : initial point: numpy array of shape (d,)\n",
    "    lr  : initial learning rate: a positive float\n",
    "    iterations : number of iterations to perform: int\n",
    "    \n",
    "Return:\n",
    "    x   : minimizer to fun: numpy array of shape (d,)\n",
    "\"\"\"\n",
    "def gd_variable(d_fun, w, lr, i):\n",
    "    \n",
    "    w -= (lr/(i+1))*d_fun(w)\n",
    "    return w"
   ]
  },
  {
   "cell_type": "markdown",
   "metadata": {},
   "source": [
    "## Question P3: Logistic Regression (30 points total)\n",
    "\n",
    "You will now implement the logistic regression from scratch. "
   ]
  },
  {
   "cell_type": "markdown",
   "metadata": {},
   "source": [
    "### P3.a: Implement the logisitc unit (5 points)\n",
    "\n",
    "For binary classification with label $y \\in \\{0,1\\}$ we can model the posterior probability $p(y = 1 | x)$ with the logistic unit \n",
    "\n",
    "$$\n",
    "h(x; w) = \\frac{1}{1 + \\exp(-w^Tx)} .\n",
    "$$\n",
    "\n",
    "We will use the convention that $x_0 = 1$.  Implement this function below using the skeletal outline as a guide.  "
   ]
  },
  {
   "cell_type": "code",
   "execution_count": 18,
   "metadata": {},
   "outputs": [],
   "source": [
    "\"\"\"\n",
    "Evaluate the logistic unit h(x; w) on each point x in the dataset X (each row is a different data point). This code \n",
    "should be vectorized for efficient computation (i.e., no for loops).\n",
    "\n",
    "Input:\n",
    "    w: weight vector: numpy array of shape (d,) where d is the dimension\n",
    "    X: data: numpy array of shape (n,d) where n is the number of data points\n",
    "\n",
    "Return:\n",
    "    logits : h(x;w): a numpy array of shape (n,) that has the values \n",
    "\"\"\"\n",
    "def logistic_unit(X, w):\n",
    "    h = 1/(1+np.exp(X @ -w.T))\n",
    "    return h"
   ]
  },
  {
   "cell_type": "markdown",
   "metadata": {},
   "source": [
    "### P3.b: Implement the loss function (5 points)\n",
    "\n",
    "We have implicitly made the assumption that $y|x \\sim \\mathrm{Bernoulli}(h(x;w))$. If we have an iid dataset $\\{(x^i, y^i)\\}_{i=1}^N$, then we can write the likelihood of the data as: \n",
    "\n",
    "$$\n",
    "p(\\hat{y}| X, w) = \\prod_{i=1}^N p(y^i | x^i, w)\n",
    "$$\n",
    "\n",
    "We can learn the parameter $w$ by maximizing this probability (i.e. we find the maximum likelihood estimator) or equivalently minimizing the loss function $J(w) = -\\log p(\\hat{y} | X, w)$. Implement the loss function $J(w)$ using the skeletal outline below. In your implementation you may use the convention that $0 \\log 0 = 0$."
   ]
  },
  {
   "cell_type": "code",
   "execution_count": 19,
   "metadata": {},
   "outputs": [],
   "source": [
    "\"\"\"\n",
    "Compute the loss function using the formula you derived.  This code does not need to be vectorized and you\n",
    "may use the logistic_unit function.\n",
    "\n",
    "Input:\n",
    "    w : weight vector: numpy array of shape (d+1,) (remember that x_0 = 1)\n",
    "    X : dataset features: numpy array of shape (n,d)\n",
    "    y : dataset targets: numpy array of shape (n,) contains only 0's or 1's\n",
    "\n",
    "Return:\n",
    "    J : loss of w given X,y: float\n",
    "\"\"\"\n",
    "def loss(w, X, y):\n",
    "    log1 = np.log(logistic_unit(X, w))\n",
    "    log2 = np.log(1 - logistic_unit(X, w))\n",
    "    J = 0\n",
    "    idx = 0\n",
    "    for i, j in zip(log1,log2):\n",
    "        J -= np.sum(y[idx]*i + (1-y[idx])*j)\n",
    "        idx += 1\n",
    "    return J"
   ]
  },
  {
   "cell_type": "markdown",
   "metadata": {},
   "source": [
    "### Making data (Nothing to do here)\n",
    "\n",
    "The following method generates random data to test your algorithm on.  **DO NOT CHANGE THE METHOD!**"
   ]
  },
  {
   "cell_type": "code",
   "execution_count": 20,
   "metadata": {},
   "outputs": [],
   "source": [
    "# The following method generates a random dataset.  DO NOT ALTER THIS METHOD.\n",
    "def make_data(n_samples = 500):\n",
    "    # Generate data features.\n",
    "    X1 = mvn.rvs(mean = np.array([1.1, 0]), cov = 0.2*np.eye(2), size = n_samples//2)\n",
    "    X2 = mvn.rvs(mean = np.array([-1.1, 0]), cov = 0.2*np.eye(2), size = n_samples - n_samples//2)\n",
    "    # Append data labels and combine.\n",
    "    X1 = np.hstack( (X1, np.ones((X1.shape[0], 1))))\n",
    "    X2 = np.hstack( (X2, np.zeros((X2.shape[0], 1))))\n",
    "    X = np.vstack([X1, X2])\n",
    "    # Randomly permute data.\n",
    "    np.random.shuffle(X)\n",
    "    return X"
   ]
  },
  {
   "cell_type": "markdown",
   "metadata": {},
   "source": [
    "### P3.c: Splitting the data for training and testing (5 points)\n",
    "\n",
    "We split the dataset into a training, validation, and test set. Use a 40/40/20 split (roughly 40/40/20 is fine). You do not need to use a random splitting, although in practice it is usually a good idea."
   ]
  },
  {
   "cell_type": "code",
   "execution_count": 21,
   "metadata": {},
   "outputs": [],
   "source": [
    "# We first generate some fake data.\n",
    "np.random.seed(2) # Don't change the random seed.\n",
    "data = make_data()\n",
    "X = data[:,:-1] # Features\n",
    "y = data[:,-1]  # Labels\n",
    "\n",
    "# We'll also augment the data so that x_0 = 1 for the intercept term.\n",
    "X = np.append(np.ones((len(X), 1)), X, axis = 1)\n",
    "\n",
    "\n",
    "# TO DO:\n",
    "## Your part starts here.\n",
    "cut_off = int(len(X)//2.5)\n",
    "train_X, train_y = X[:cut_off], y[:cut_off]\n",
    "val_X, val_y = X[cut_off:2*cut_off], y[cut_off:2*cut_off]\n",
    "test_X, test_y = X[2*cut_off:], y[2*cut_off:]\n",
    "## Ends here."
   ]
  },
  {
   "cell_type": "markdown",
   "metadata": {},
   "source": [
    "### P3.d: Implement the model training (10 points)\n",
    "\n",
    "Now use your gradient descent function to learn the parameters $w$ using `5000` iterations. You may choose the learning rate and initial parameters $w_0$ for this problem. Compare both the fixed learning rate and variable learning rate gradient descents side by side (i.e., 2 subplots) by computing the loss after every `m=10` iterations. \n",
    "There are 4 things to do for this problem.\n",
    "\n",
    "1. Set the learning rate and initial points.\n",
    "2. Implement the loss function $J(w)$.\n",
    "3. Update the parameters using the two gradient descent methods.\n",
    "4. Compute the loss after every 10 iterations."
   ]
  },
  {
   "cell_type": "code",
   "execution_count": 22,
   "metadata": {},
   "outputs": [
    {
     "name": "stderr",
     "output_type": "stream",
     "text": [
      "100%|██████████| 5000/5000 [11:01<00:00,  7.56it/s]\n"
     ]
    },
    {
     "name": "stdout",
     "output_type": "stream",
     "text": [
      "[-0.84797338  7.87786253  1.78065866] [0.04158119 0.75859438 0.03293446]\n"
     ]
    },
    {
     "data": {
      "image/png": "[encoded data removed]",
      "text/plain": [
       "<Figure size 720x288 with 2 Axes>"
      ]
     },
     "metadata": {
      "needs_background": "light"
     },
     "output_type": "display_data"
    }
   ],
   "source": [
    "iterations = 5000 \n",
    "m = 10          \n",
    "lr = 0.001            \n",
    "\n",
    "\n",
    "train_loss_fixed = np.zeros(iterations//m)\n",
    "val_loss_fixed = np.zeros(iterations//m)\n",
    "\n",
    "train_loss_var = np.zeros(iterations//m)\n",
    "val_loss_var = np.zeros(iterations//m)\n",
    "\n",
    "w1 = np.zeros(train_X.shape[1])\n",
    "w2 = np.zeros(train_X.shape[1])\n",
    "\n",
    "d_loss = grad(lambda w: loss(w, train_X, train_y))\n",
    "\n",
    "\n",
    "for i in tqdm(range(iterations)):\n",
    "    w1 = gd_fixed(d_loss, w1, lr)\n",
    "    w2 = gd_variable(d_loss, w2, lr, i)\n",
    "    \n",
    "    # Only compute the loss every m iterations.\n",
    "    if np.mod(iterations, m) == 0: \n",
    "        \n",
    "        train_loss_fixed[i//m] = loss(w1, train_X, train_y)\n",
    "        val_loss_fixed[i//m] = loss(w1, val_X, val_y)\n",
    "        \n",
    "        train_loss_var[i//m] = loss(w2, train_X, train_y)\n",
    "        val_loss_var[i//m] = loss(w2, val_X, val_y)\n",
    "   \n",
    "print(w1, w2)\n",
    "\n",
    "## Plotting starts here.  Nothing to implement.\n",
    "its = np.arange(1, iterations + 1, m)\n",
    "fig, (ax1, ax2) = plt.subplots(1, 2, figsize = (10, 4))\n",
    "\n",
    "ax1.semilogy(its, train_loss_fixed, 'b-', label = 'Train')\n",
    "ax1.semilogy(its, val_loss_fixed, 'r-', label = 'Val')\n",
    "ax1.set_xlabel('Iteration')\n",
    "ax1.set_ylabel('Loss')\n",
    "ax1.set_title('GD with Fixed Learning Rate')\n",
    "ax1.grid()\n",
    "ax1.legend()\n",
    "\n",
    "ax2.semilogy(its, train_loss_var, 'b-', label = 'Train')\n",
    "ax2.semilogy(its, val_loss_var, 'r-', label = 'Val')\n",
    "ax2.set_xlabel('Iteration')\n",
    "ax2.set_ylabel('Loss')\n",
    "ax2.set_title('GD with Variable Learning Rate')\n",
    "ax2.grid()\n",
    "ax2.legend()\n",
    "\n",
    "plt.tight_layout();"
   ]
  },
  {
   "cell_type": "markdown",
   "metadata": {},
   "source": [
    "### P3.e: Evalute the model on the test set (5 points)\n",
    "\n",
    "Finally, we have trained our models and are ready to evaluate them on the test set. But first we need to define a discriminant function $f(x)$ which converts probabilities into discrete classes. It assigns the label $y = 1$ if $p(y = 1 | x) \\ge 0.5$ and $0$ otherwise. In other words, with a discriminant function we do not need the posterior probabilities but rather skip straight to the classification. Implement this discremenant function, infer the class for every point in the test set, and compute the following metric. \n",
    "\n",
    "For binary classification one way to check our classifier is to make a *confusion matrix* of our predictions.\n",
    "\n",
    "$$\n",
    "C = \\begin{bmatrix}\n",
    "\\text{Predict 0, Actual 0} & \\text{Predict 0, Actual 1}\\\\\n",
    "\\text{Predict 1, Actual 0} & \\text{Predict 1, Actual 1}\n",
    "\\end{bmatrix}\n",
    "$$\n",
    "\n",
    "The diagonal elements are the number of samples that are correctly classified.\n",
    "\n",
    "Use both trained models (fixed and variable learning rates) to classify samples in the test set according to whether $h(x_i; w) \\ge 0.5$ or not and print the confusion matrices. Also print the accuracy rate which is just the percentage of correctly classified examples for both models.\n",
    "\n",
    "\n",
    "\n"
   ]
  },
  {
   "cell_type": "code",
   "execution_count": 23,
   "metadata": {},
   "outputs": [
    {
     "name": "stdout",
     "output_type": "stream",
     "text": [
      "C_1 = \n",
      "[[51, 3], [1, 45]]\n",
      "C_2 = \n",
      "[[51, 1], [1, 47]]\n",
      "Fixed Learning Rate Accuracy    = 96.0%\n",
      "Variable Learning Rate Accuracy = 98.0%\n"
     ]
    }
   ],
   "source": [
    "N = len(test_X)       # Number of test samples.\n",
    "\n",
    "\n",
    "## TO DO STARTS HERE:\n",
    "def predict_LR(X, w):\n",
    "    return (logistic_unit(X, w)>0.5).astype(int)\n",
    "\n",
    "test_y_hat_fixed = predict_LR(test_X, w1)\n",
    "test_y_hat_var = predict_LR(test_X, w2)\n",
    "\n",
    "FP_f = sum([1 if (i==1) and (j==0)  else 0 for i, j in zip(test_y_hat_fixed, test_y)])\n",
    "TP_f = sum([1 if (i==1) and (j==1)  else 0 for i, j in zip(test_y_hat_fixed, test_y)])\n",
    "FN_f = sum([1 if (i==0) and (j==1)  else 0 for i, j in zip(test_y_hat_fixed, test_y)])\n",
    "TN_f = sum([1 if (i==0) and (j==0)  else 0 for i, j in zip(test_y_hat_fixed, test_y)])\n",
    "\n",
    "FP_v = sum([1 if (i==1) and (j==0)  else 0 for i, j in zip(test_y_hat_var, test_y)])\n",
    "TP_v = sum([1 if (i==1) and (j==1)  else 0 for i, j in zip(test_y_hat_var, test_y)])\n",
    "FN_v = sum([1 if (i==0) and (j==1)  else 0 for i, j in zip(test_y_hat_var, test_y)])\n",
    "TN_v = sum([1 if (i==0) and (j==0)  else 0 for i, j in zip(test_y_hat_var, test_y)])\n",
    "\n",
    "C1 = [[TN_f, FN_f],\n",
    "    [FP_f, TP_f]]\n",
    "C2 = [[TN_v, FN_v],\n",
    "    [FP_v, TP_v]]\n",
    "\n",
    "# Compute the accuracy         \n",
    "acc1 = (TP_f + TN_f)/N\n",
    "acc2 = (TP_v + TN_v)/N\n",
    "\n",
    "# TO DO ENDS HERE.\n",
    "print(\"C_1 = \")\n",
    "print(C1)\n",
    "print(\"C_2 = \")\n",
    "print(C2)\n",
    "print('Fixed Learning Rate Accuracy    = {:0.1f}%'.format(100 * acc1))\n",
    "print('Variable Learning Rate Accuracy = {:0.1f}%'.format(100 * acc2))"
   ]
  }
 ],
 "metadata": {
  "interpreter": {
   "hash": "e8e3db884bd5ca2a381d9bf14c306731bf0b21654ae45a6c181e3b4f6f332c9c"
  },
  "kernelspec": {
   "display_name": "Python 3",
   "language": "python",
   "name": "python3"
  },
  "language_info": {
   "codemirror_mode": {
    "name": "ipython",
    "version": 3
   },
   "file_extension": ".py",
   "mimetype": "text/x-python",
   "name": "python",
   "nbconvert_exporter": "python",
   "pygments_lexer": "ipython3",
   "version": "3.8.8"
  }
 },
 "nbformat": 4,
 "nbformat_minor": 2
}
