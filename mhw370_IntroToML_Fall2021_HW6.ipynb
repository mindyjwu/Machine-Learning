{
  "cells": [
    {
      "cell_type": "markdown",
      "metadata": {
        "id": "ugOPBj5kqOPv"
      },
      "source": [
        "# Introduction to Machine Learning (CSCI-UA.473)\n",
        "\n",
        "## Homework 6: Gaussian Mixture Models and the EM Algorithm\n",
        "\n",
        "### Due: December 16th, 2021 at 11:59PM\n",
        "\n",
        "### Name: Mindy Wu\n",
        "\n",
        "\n",
        "### Email: mhw370"
      ]
    },
    {
      "cell_type": "markdown",
      "metadata": {
        "id": "S9_1wzScqOP5"
      },
      "source": [
        "The goal of this assignment is to practice the Gaussian mixture models and the EM algorithm. "
      ]
    },
    {
      "cell_type": "markdown",
      "metadata": {
        "id": "q1F8e2tBqOP5"
      },
      "source": [
        "Below are all of the packages you will need for this assignment.  `cv2` refers to the package OpenCV, which you may need to install.  This can be done with the command\n",
        "\n",
        "`pip install opencv-python`\n",
        "\n",
        "OpenCV is a package for computer vision, but here we will only use it to help display images.  You may also need the `pickle` package which can be installed with\n",
        "\n",
        "`pip install pickle`\n",
        "\n",
        "**Do not** alter the cell below or add any other packages."
      ]
    },
    {
      "cell_type": "code",
      "execution_count": 7,
      "metadata": {
        "id": "GGCWzUqOqOP7"
      },
      "outputs": [],
      "source": [
        "import numpy as np\n",
        "import matplotlib.pyplot as plt\n",
        "import pickle\n",
        "from scipy.stats import multivariate_normal as normal # Multivariate normal distribution\n",
        "from scipy.stats import multinomial # Multinomial distribution\n",
        "import cv2 # OpenCV package for computer vision"
      ]
    },
    {
      "cell_type": "markdown",
      "metadata": {
        "id": "RPxlLFN8qOP8"
      },
      "source": [
        "## Question P1. Gaussian mixture models and the EM algorithm (60 Points Total)\n",
        "\n",
        "In this problem you will implement the EM algorithm to fit a Gaussian mixture model.  "
      ]
    },
    {
      "cell_type": "markdown",
      "metadata": {
        "id": "uTDIkPAAqOP9"
      },
      "source": [
        "### Question P1.a: Implementing a Gaussian mixture model (30 Points)\n",
        "Recall that in a Gaussian mixture model there is a latent variable $z = i$ with probability $\\phi_i$ for $i=1,\\ldots,K$ so that ${\\bf x}|z = i \\sim \\mathrm{Normal}(\\mu_i,\\ \\Sigma_i)$ for $i=1,\\ldots,K$.  Implement the GMM class by completing the following methods.\n",
        "1. `fit` which simply optimizes over the parameters $\\phi_i$, $\\mu_i$, and $\\Sigma_i$ using the EM algorithm.\n",
        "2. `expectation_step` which computes the posterior probabilities \n",
        "$$\n",
        "\\gamma_{ik} = p(z = k| {\\bf x}_i) = \\frac{\\phi_k N({\\bf x}_i; \\mu_k, \\Sigma_k)}{\\sum_{j=1}^K \\phi_j N({\\bf x}_i; \\mu_j, \\Sigma_j)}\n",
        "$$\n",
        "where $N({\\bf x}_i; \\mu_k, \\Sigma_k)$ denotes the pdf of a multivariate normal distribution at the point ${\\bf x}_i$ with mean $\\mu_k$ and covariance $\\Sigma_k$.\n",
        "3. `maximization_step` which computes the updated values of the parameters $\\phi,\\mu,\\Sigma$.\n",
        "\n",
        "You are encouraged to use the `multivariate_normal` module.  For this part you do not need to implement the `sample` method, since this will be done later on."
      ]
    },
    {
      "cell_type": "code",
      "execution_count": 40,
      "metadata": {
        "id": "zwLtP70OqOP-"
      },
      "outputs": [],
      "source": [
        "# reference from this link\n",
        "# https://towardsdatascience.com/gaussian-mixture-models-implemented-from-scratch-1857e40ea566\n",
        "\n",
        "class GMM:\n",
        "    \n",
        "    \"\"\"\n",
        "    Initialize a Gaussian mixture model with K clusters.\n",
        "\n",
        "    Input:\n",
        "    K, int -- the number of clusters\n",
        "    X, numpy.ndarray -- shape (N, d) where N is the number of data points and d is the dimension\n",
        "    phi_0, numpy.ndarray -- shape (K, ) where K is number of clusters, initialization of probability vector phi\n",
        "    mu_0, numpy.ndarray -- shape (K, d), initialization of the cluster means\n",
        "    cov_0, numpy.ndarray -- shape (K, d, d), initialization of the cluster covariance\n",
        "    \"\"\"\n",
        "    def __init__(self, K, X, phi_0, mu_0, cov_0):\n",
        "        \n",
        "        # Verify that everything is the correct dimensions.\n",
        "        assert phi_0.shape[0] == K\n",
        "        assert mu_0.shape[0] == K\n",
        "        assert cov_0.shape[0] == K\n",
        "        assert mu_0.shape[1] == X.shape[1]\n",
        "        assert mu_0.shape[1] == cov_0.shape[1]\n",
        "        assert cov_0.shape[1] == cov_0.shape[2]\n",
        "        \n",
        "        self.K = K # Number of clusters\n",
        "        self.X = X # Dataset\n",
        "        self.N = X.shape[0] # Number of data points\n",
        "        self.d = X.shape[1] # Dimension of the data\n",
        "        \n",
        "        # Initialize the means and covariances of the components.\n",
        "        self.phi = phi_0\n",
        "        self.mu = mu_0\n",
        "        self.cov = cov_0\n",
        "    \n",
        "    \"\"\"\n",
        "    Fit the parameters of the Gaussian mixture model using the EM algorithm.  Alternate between\n",
        "    the expectation and maximization steps.  Note that the maximization_step function will \n",
        "    update the parameters, so this method will not return anything.\n",
        "    \n",
        "    Input:\n",
        "    iters, int -- the number of iterations to perform\n",
        "    \"\"\"\n",
        "    def fit(self, iters):\n",
        "        ## TO DO STARTS HERE ##\n",
        "        for i in range(iters):\n",
        "          gamma = self.expectation_step()\n",
        "          self.maximization_step(gamma)\n",
        "        ## TO DO ENDS HERE ##\n",
        "    \n",
        "    \"\"\"\n",
        "    Perform the expectation step in the EM algorithm by computing the posterior\n",
        "    probabilities gamma_{ik} = p(z = k| x_i) for i = 1,...,N and k = 0,...,K-1.\n",
        "    \n",
        "    Return:\n",
        "    gamma, numpy.ndarray -- shape (N, K) of the posterior probabilities\n",
        "    \"\"\"\n",
        "    def expectation_step(self):\n",
        "        gamma = np.zeros((self.N, self.K))\n",
        "        ## TO DO STARTS HERE ##\n",
        "        for n in range(self.N):\n",
        "          for k in range(self.K):\n",
        "            gamma[n][k] = self.phi[k] * normal.pdf(X[n], mean = self.mu[k], cov = self.cov[k])\n",
        "            gamma[n][k] /= sum([self.phi[j] * normal.pdf(X[n], mean = self.mu[j], cov = self.cov[j]) for j in range(self.K)])\n",
        "\n",
        "        ## TO DO ENDS HERE ##     \n",
        "        return gamma\n",
        "    \n",
        "    \"\"\"\n",
        "    Perform the maximization step in the EM algorithm by computing the updated phi, mu, and cov.\n",
        "    \n",
        "    Input:\n",
        "    gamma, numpy.ndarray -- shape (N, K) of the posterior probabilities p(z = k|x_i)\n",
        "    \"\"\"\n",
        "    def maximization_step(self, gamma):\n",
        "        phi = np.zeros(self.K)\n",
        "        mu = np.zeros((self.K, self.d))\n",
        "        cov = np.zeros((self.K, self.d, self.d))\n",
        "        ## TO DO STARTS HERE ##\n",
        "        # initialize the mean vector as zero vector\n",
        "        M = np.sum(gamma, axis = 0)\n",
        "        # first, we update the mean vector \n",
        "        for k in range(self.K):\n",
        "          for n in range(self.N):\n",
        "            mu[k] += gamma[n][k] * self.X[n]\n",
        "\n",
        "        mu = [(1/M[k]) * mu[k] for k in range(self.K)]\n",
        "\n",
        "        #updating the covariance matrix\n",
        "        for k in range(self.K):\n",
        "          cov[k] = np.cov(X.T, aweights = (gamma[:, k]), ddof = 0)\n",
        "        cov = [(1/M[k])* cov[k] for k in range(self.K)]\n",
        "\n",
        "        # updating the phi list\n",
        "        phi = [M[k]/ self.N for k in range(self.K)]\n",
        "   \n",
        "        ## TO DO ENDS HERE ##\n",
        "        self.phi = phi\n",
        "        self.mu = mu\n",
        "        self.cov = cov\n",
        "    \n",
        "    \"\"\"\n",
        "    Draw n_samples from the mixture model p(x).  Assume that the parameters have already been fit.\n",
        "    \n",
        "    Input:\n",
        "    n_samples, int -- the number of samples from p(x) to draw\n",
        "\n",
        "    Return:\n",
        "    X_sampled, numpy.ndarray -- shape (n_samples, d) samples\n",
        "    \"\"\"\n",
        "    def sample(self, n_samples):\n",
        "        X_sampled = np.zeros((n_samples, self.d))\n",
        "        ## ONLY FOR PART C.\n",
        "        ## TO DO STARTS HERE ##\n",
        "\n",
        "        #https://docs.scipy.org/doc/scipy/reference/generated/scipy.stats.multinomial.html\n",
        "        # rvs: Draw random samples from a multinomial distribution.\n",
        "        num_per_cluster = multinomial.rvs(n_samples, self.phi, size = 1, random_state=None).flatten()\n",
        "        k = 0 \n",
        "        j = 0\n",
        "        for num in range (len(num_per_cluster)):\n",
        "          sampled_length = num_per_cluster[num]\n",
        "          X_sampled[k:k+sampled_length, :] = normal.rvs(self.mu[j], self.cov[j], sampled_length)\n",
        "          # update the k and j\n",
        "          k += sampled_length\n",
        "          j += 1\n",
        "\n",
        "\n",
        "        ## TO DO ENDS HERE ##\n",
        "        return X_sampled"
      ]
    },
    {
      "cell_type": "markdown",
      "metadata": {
        "id": "lleFBQJFqOQN"
      },
      "source": [
        "### Question P1.b: Toy dataset and comparison with K-means (20 Points)\n",
        "\n",
        "You will now test your GMM and EM implemention on the 2-dimensional toy dataset below with 2 components for the mixture model (i.e. $K = 2$).  In particular, we assume that the true parameters of the mixture model are\n",
        "$$\n",
        "\\phi = (0.5,\\ 0.5),\\quad \\mu_0 = \\begin{bmatrix} 0\\\\0 \\end{bmatrix},\\quad \\mu_1 = \\begin{bmatrix}10\\\\0\\end{bmatrix}\n",
        "$$\n",
        "and\n",
        "$$\n",
        "\\Sigma_0 = \\Sigma_1 = \\begin{bmatrix}\n",
        "1 & 0\\\\\n",
        "0 & 10^4\n",
        "\\end{bmatrix}\n",
        "$$"
      ]
    },
    {
      "cell_type": "code",
      "execution_count": 41,
      "metadata": {
        "id": "VnYQmigRqOQO",
        "colab": {
          "base_uri": "https://localhost:8080/",
          "height": 315
        },
        "outputId": "69524404-9093-4133-babd-1a6c6a328a29"
      },
      "outputs": [
        {
          "output_type": "stream",
          "name": "stdout",
          "text": [
            "X has shape  (50, 2)\n"
          ]
        },
        {
          "output_type": "display_data",
          "data": {
            "image/png": "[encoded data removed]",
            "text/plain": [
              "<Figure size 432x288 with 1 Axes>"
            ]
          },
          "metadata": {
            "needs_background": "light"
          }
        }
      ],
      "source": [
        "K = 2 # Number of clusters\n",
        "\n",
        "X_0 = normal.rvs(size = 25, mean = np.zeros(2), cov = np.array([[1, 0], [0, 1e4]])) # Points from the first cluster.\n",
        "X_1 = normal.rvs(size = 25, mean = np.array([10, 0]), cov = np.array([[1, 0], [0, 1e4]])) # Points from the second cluster.\n",
        "X = np.vstack([X_0, X_1])\n",
        "print(\"X has shape \", X.shape)\n",
        "\n",
        "plt.scatter(X_0[:,0], X_0[:,1], c = 'b', marker = '+', label = 'Cluster 0')\n",
        "plt.scatter(X_1[:,0], X_1[:,1], c = 'r', marker = 'o', label = 'Cluster 1')\n",
        "plt.legend()\n",
        "plt.xlabel(r'$x_1$')\n",
        "plt.ylabel(r'$x_2$')\n",
        "plt.title(r'Toy Dataset')\n",
        "plt.show()"
      ]
    },
    {
      "cell_type": "markdown",
      "metadata": {
        "id": "zJ4ZiY-cqOQP"
      },
      "source": [
        "Your task is the following.\n",
        "\n",
        "1.  Fit both a Gaussian mixture model and K-means, each with $K = 2$ clusters, using the initial parameters provided below and 50 iterations each.\n",
        "2.  Since GMM gives a \"soft-clustering\" we can assign cluster labels based on which cluster has the highest posterior probability $p(z = k|{\\bf x}_i)$.  In other words, assign the point ${\\bf x}_i$ to cluster $k$ if\n",
        "$$\n",
        "p(z = k|{\\bf x}_i) = \\mathrm{max}_{j \\in \\{0,\\ldots,K-1\\}}p(z = j|{\\bf x}_i)\n",
        "$$\n",
        "Let ${\\bf y} \\in \\{0,1\\}^N$ denote the results of the clustering.  In other words, ${\\bf y}_i = 1$ if ${\\bf x}_i$ is assigned to cluster 1 and 0 if it is assigned to cluster 0.  Compute the cluster assignments for both GMM and K-means.  Explain in words why you obtain the clusterings you do using the different methods."
      ]
    },
    {
      "cell_type": "code",
      "execution_count": 42,
      "metadata": {
        "id": "3qXNxw0iqOQQ",
        "colab": {
          "base_uri": "https://localhost:8080/",
          "height": 577
        },
        "outputId": "4b043af1-2338-4fa8-9cc2-2c5ec66f67c7"
      },
      "outputs": [
        {
          "output_type": "display_data",
          "data": {
            "image/png": "[encoded data removed]",
            "text/plain": [
              "<Figure size 432x288 with 1 Axes>"
            ]
          },
          "metadata": {
            "needs_background": "light"
          }
        },
        {
          "output_type": "display_data",
          "data": {
            "image/png": "[encoded data removed]",
            "text/plain": [
              "<Figure size 432x288 with 1 Axes>"
            ]
          },
          "metadata": {
            "needs_background": "light"
          }
        }
      ],
      "source": [
        "# The initial conditions for the first model.  The true parameters for the model.\n",
        "phi_0 = np.array([0.5, 0.5])\n",
        "mu_0 = np.array([[0, 0], [10, 0]])\n",
        "cov_0 = np.array([[[1, 0], [0, 1e4]], [[1, 0], [0, 1e4]]])\n",
        "\n",
        "\n",
        "y_1 = None # The GMM cluster assignments np.ndarray(N,)\n",
        "y_2 = None # The k-means cluster assignments np.ndarray(N,)\n",
        "\n",
        "\n",
        "## TO DO STARTS HERE ##\n",
        "\n",
        "model_gmm = GMM(K = K, X =X, phi_0 = phi_0, mu_0 = mu_0, cov_0 = cov_0)\n",
        "model_gmm.fit(50)\n",
        "\n",
        "\n",
        "# the GMM model\n",
        "y_1 = np.zeros((model_gmm.X.shape[0], model_gmm.K))\n",
        "\n",
        "for k in range(model_gmm.K):\n",
        "  y_1[:,k] = (model_gmm.phi[k]* normal.pdf(model_gmm.X, model_gmm.mu[k], model_gmm.cov[k]))\n",
        "\n",
        "y_1 = y_1.argmax(1)\n",
        "\n",
        "# the k-means cluster\n",
        "y_2 = np.zeros((model_gmm.X.shape[0], model_gmm.K))\n",
        "\n",
        "for k in range(model_gmm.K):\n",
        "  d = model_gmm.mu[k] - model_gmm.X\n",
        "  y_2[:, k] = np.sqrt(np.sum(d **2, axis = -1))\n",
        "\n",
        "y_2 = y_2.argmin(1)\n",
        "\n",
        "## TO DO ENDS HERE ##\n",
        "\n",
        "\n",
        "plt.figure()\n",
        "plt.scatter(X[y_1 == 0,0], X[y_1 == 0,1], c = 'b', marker = '+', label = 'Cluster 0')\n",
        "plt.scatter(X[y_1 == 1,0], X[y_1 == 1,1], c = 'r', marker = 'o', label = 'Cluster 1')\n",
        "plt.legend()\n",
        "plt.xlabel(r'$x_1$')\n",
        "plt.ylabel(r'$x_2$')\n",
        "plt.title(r'Toy Dataset: GMM Clustering')\n",
        "plt.show()\n",
        "\n",
        "\n",
        "plt.figure()\n",
        "plt.scatter(X[y_2 == 0,0], X[y_2 == 0,1], c = 'b', marker = '+', label = 'Cluster 0')\n",
        "plt.scatter(X[y_2 == 1,0], X[y_2 == 1,1], c = 'r', marker = 'o', label = 'Cluster 1')\n",
        "plt.legend()\n",
        "plt.xlabel(r'$x_1$')\n",
        "plt.ylabel(r'$x_2$')\n",
        "plt.title(r'Toy Dataset: K-means Clustering')\n",
        "plt.show()\n"
      ]
    },
    {
      "cell_type": "markdown",
      "metadata": {
        "id": "dXhhp3JaqOQQ"
      },
      "source": [
        "While both k-means and GMM update and consider means into their model for the next iteration, you can tell from the graph that GMM has clearer separation of clusters because it also consider the variance while iterating. From the GMM model method above, you can see \"model_gmm.cov[k]\" is included for the y_1, so the model for GMM is more robust, thus, the result.\n"
      ]
    },
    {
      "cell_type": "markdown",
      "metadata": {
        "id": "pg2eGfqTqOQQ"
      },
      "source": [
        "### Question P1.c: Sampling from a Gaussian mixture model (10 Points)\n",
        "\n",
        "Because a Gaussian mixture model describes a probability distribution over the features ${\\bf x}$, we can use it to sample new features and greatly increase the total number of samples we have.\n",
        "\n",
        "1. Finish the implementation of the `GMM` class by completing the `sample` method, which draws many samples from $p(x)$.  It is recommended to use both the `multivariate_normal` and `multinomial` modules that were loaded earlier.\n",
        "2. Draw 1000 samples from the Gaussian mixture model you learned in the previous part.  Assign each of the newly sampled points to a cluster depending on their posterior probabilities $p(z = k|{\\bf x}_i)$."
      ]
    },
    {
      "cell_type": "code",
      "execution_count": 43,
      "metadata": {
        "id": "02WR7quPqOQR",
        "colab": {
          "base_uri": "https://localhost:8080/",
          "height": 253
        },
        "outputId": "cc697721-b438-4e1d-d304-23e837ffbc92"
      },
      "outputs": [
        {
          "output_type": "error",
          "ename": "IndexError",
          "evalue": "ignored",
          "traceback": [
            "\u001b[0;31m---------------------------------------------------------------------------\u001b[0m",
            "\u001b[0;31mIndexError\u001b[0m                                Traceback (most recent call last)",
            "\u001b[0;32m<ipython-input-43-cc37360986b5>\u001b[0m in \u001b[0;36m<module>\u001b[0;34m()\u001b[0m\n\u001b[1;32m      8\u001b[0m \u001b[0;32mfor\u001b[0m \u001b[0mn\u001b[0m \u001b[0;32min\u001b[0m \u001b[0mrange\u001b[0m\u001b[0;34m(\u001b[0m\u001b[0;36m1000\u001b[0m\u001b[0;34m)\u001b[0m\u001b[0;34m:\u001b[0m\u001b[0;34m\u001b[0m\u001b[0;34m\u001b[0m\u001b[0m\n\u001b[1;32m      9\u001b[0m   \u001b[0;32mfor\u001b[0m \u001b[0mk\u001b[0m \u001b[0;32min\u001b[0m \u001b[0mrange\u001b[0m\u001b[0;34m(\u001b[0m\u001b[0;36m2\u001b[0m\u001b[0;34m)\u001b[0m\u001b[0;34m:\u001b[0m\u001b[0;34m\u001b[0m\u001b[0;34m\u001b[0m\u001b[0m\n\u001b[0;32m---> 10\u001b[0;31m     \u001b[0mgammas\u001b[0m\u001b[0;34m[\u001b[0m\u001b[0mn\u001b[0m\u001b[0;34m]\u001b[0m\u001b[0;34m[\u001b[0m\u001b[0mk\u001b[0m\u001b[0;34m]\u001b[0m \u001b[0;34m=\u001b[0m \u001b[0mmodel_gmm\u001b[0m\u001b[0;34m.\u001b[0m\u001b[0mphi\u001b[0m\u001b[0;34m[\u001b[0m\u001b[0mk\u001b[0m\u001b[0;34m]\u001b[0m \u001b[0;34m*\u001b[0m \u001b[0mnormal\u001b[0m\u001b[0;34m.\u001b[0m\u001b[0mpdf\u001b[0m\u001b[0;34m(\u001b[0m\u001b[0mX_sampled\u001b[0m\u001b[0;34m[\u001b[0m\u001b[0mn\u001b[0m\u001b[0;34m]\u001b[0m\u001b[0;34m,\u001b[0m \u001b[0mmean\u001b[0m \u001b[0;34m=\u001b[0m \u001b[0mmodel_gmm\u001b[0m\u001b[0;34m.\u001b[0m\u001b[0mmu\u001b[0m\u001b[0;34m[\u001b[0m\u001b[0mk\u001b[0m\u001b[0;34m]\u001b[0m\u001b[0;34m,\u001b[0m \u001b[0mcov\u001b[0m \u001b[0;34m=\u001b[0m \u001b[0mmodel_gmm\u001b[0m\u001b[0;34m.\u001b[0m\u001b[0mcov\u001b[0m\u001b[0;34m[\u001b[0m\u001b[0mk\u001b[0m\u001b[0;34m]\u001b[0m\u001b[0;34m)\u001b[0m\u001b[0;34m\u001b[0m\u001b[0;34m\u001b[0m\u001b[0m\n\u001b[0m\u001b[1;32m     11\u001b[0m     \u001b[0mgammas\u001b[0m\u001b[0;34m[\u001b[0m\u001b[0mn\u001b[0m\u001b[0;34m]\u001b[0m\u001b[0;34m[\u001b[0m\u001b[0mk\u001b[0m\u001b[0;34m]\u001b[0m \u001b[0;34m/=\u001b[0m \u001b[0msum\u001b[0m\u001b[0;34m(\u001b[0m\u001b[0;34m[\u001b[0m\u001b[0mmodel_gmm\u001b[0m\u001b[0;34m.\u001b[0m\u001b[0mphi\u001b[0m\u001b[0;34m[\u001b[0m\u001b[0mj\u001b[0m\u001b[0;34m]\u001b[0m \u001b[0;34m*\u001b[0m \u001b[0mnormal\u001b[0m\u001b[0;34m.\u001b[0m\u001b[0mpdf\u001b[0m\u001b[0;34m(\u001b[0m\u001b[0mX_sampled\u001b[0m\u001b[0;34m[\u001b[0m\u001b[0mn\u001b[0m\u001b[0;34m]\u001b[0m\u001b[0;34m,\u001b[0m \u001b[0mmean\u001b[0m \u001b[0;34m=\u001b[0m \u001b[0mmodel_gmm\u001b[0m\u001b[0;34m.\u001b[0m\u001b[0mmu\u001b[0m\u001b[0;34m[\u001b[0m\u001b[0mj\u001b[0m\u001b[0;34m]\u001b[0m\u001b[0;34m,\u001b[0m\u001b[0mcov\u001b[0m \u001b[0;34m=\u001b[0m \u001b[0mmodel_gmm\u001b[0m\u001b[0;34m.\u001b[0m\u001b[0mcov\u001b[0m\u001b[0;34m[\u001b[0m\u001b[0mj\u001b[0m\u001b[0;34m]\u001b[0m\u001b[0;34m)\u001b[0m \u001b[0;32mfor\u001b[0m \u001b[0mj\u001b[0m \u001b[0;32min\u001b[0m \u001b[0mrange\u001b[0m\u001b[0;34m(\u001b[0m\u001b[0mmodel_gmm\u001b[0m\u001b[0;34m.\u001b[0m\u001b[0mK\u001b[0m\u001b[0;34m)\u001b[0m\u001b[0;34m]\u001b[0m\u001b[0;34m)\u001b[0m\u001b[0;34m\u001b[0m\u001b[0;34m\u001b[0m\u001b[0m\n\u001b[1;32m     12\u001b[0m \u001b[0;34m\u001b[0m\u001b[0m\n",
            "\u001b[0;31mIndexError\u001b[0m: index 100 is out of bounds for axis 0 with size 100"
          ]
        }
      ],
      "source": [
        "X_sampled = None # The newly sampled data.\n",
        "y = None # The vector of cluster assignment labels.\n",
        "\n",
        "## TO DO STARTS HERE ##\n",
        "X_sampled = model_gmm.sample(100)\n",
        "gammas = np.zeros((1000, 2))\n",
        "\n",
        "for n in range(1000):\n",
        "  for k in range(2):\n",
        "    gammas[n][k] = model_gmm.phi[k] * normal.pdf(X_sampled[n], mean = model_gmm.mu[k], cov = model_gmm.cov[k])\n",
        "    gammas[n][k] /= sum([model_gmm.phi[j] * normal.pdf(X_sampled[n], mean = model_gmm.mu[j],cov = model_gmm.cov[j]) for j in range(model_gmm.K)])\n",
        "                                                                                                                                                 \n",
        "    \n",
        "y = np.argmax(gammas, axis = 1)\n",
        "\n",
        "## TO DO ENDS HERE ##\n",
        "\n",
        "plt.figure()\n",
        "plt.scatter(X_sampled[y == 0,0], X_sampled[y == 0,1], c = 'b', marker = '+', label = 'Cluster 0')\n",
        "plt.scatter(X_sampled[y == 1,0], X_sampled[y == 1,1], c = 'r', marker = 'o', label = 'Cluster 1')\n",
        "plt.xlabel(r'$x_1$')\n",
        "plt.ylabel(r'$x_2$')\n",
        "plt.title(r'Newly Sampled Data')\n",
        "plt.legend()\n",
        "plt.show();"
      ]
    },
    {
      "cell_type": "markdown",
      "metadata": {
        "id": "swk9XhodqOQR"
      },
      "source": [
        ""
      ]
    }
  ],
  "metadata": {
    "kernelspec": {
      "display_name": "Python 3 (ipykernel)",
      "language": "python",
      "name": "python3"
    },
    "language_info": {
      "codemirror_mode": {
        "name": "ipython",
        "version": 3
      },
      "file_extension": ".py",
      "mimetype": "text/x-python",
      "name": "python",
      "nbconvert_exporter": "python",
      "pygments_lexer": "ipython3",
      "version": "3.9.6"
    },
    "colab": {
      "name": "mhw370_IntroToML_Fall2021_HW6.ipynb",
      "provenance": [],
      "collapsed_sections": []
    }
  },
  "nbformat": 4,
  "nbformat_minor": 0
}